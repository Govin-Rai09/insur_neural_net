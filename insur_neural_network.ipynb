{
 "cells": [
  {
   "cell_type": "code",
   "execution_count": 1,
   "id": "425e3582",
   "metadata": {},
   "outputs": [
    {
     "name": "stdout",
     "output_type": "stream",
     "text": [
      "INFO:tensorflow:Enabling eager execution\n",
      "INFO:tensorflow:Enabling v2 tensorshape\n",
      "INFO:tensorflow:Enabling resource variables\n",
      "INFO:tensorflow:Enabling tensor equality\n",
      "INFO:tensorflow:Enabling control flow v2\n"
     ]
    }
   ],
   "source": [
    "import tensorflow as tf\n",
    "import pandas as pd\n",
    "import numpy as np"
   ]
  },
  {
   "cell_type": "code",
   "execution_count": 2,
   "id": "d7790c3f",
   "metadata": {},
   "outputs": [],
   "source": [
    "insurance=pd.read_csv(\"insurance.csv\")"
   ]
  },
  {
   "cell_type": "code",
   "execution_count": 3,
   "id": "f478a989",
   "metadata": {},
   "outputs": [
    {
     "data": {
      "text/html": [
       "<div>\n",
       "<style scoped>\n",
       "    .dataframe tbody tr th:only-of-type {\n",
       "        vertical-align: middle;\n",
       "    }\n",
       "\n",
       "    .dataframe tbody tr th {\n",
       "        vertical-align: top;\n",
       "    }\n",
       "\n",
       "    .dataframe thead th {\n",
       "        text-align: right;\n",
       "    }\n",
       "</style>\n",
       "<table border=\"1\" class=\"dataframe\">\n",
       "  <thead>\n",
       "    <tr style=\"text-align: right;\">\n",
       "      <th></th>\n",
       "      <th>age</th>\n",
       "      <th>sex</th>\n",
       "      <th>bmi</th>\n",
       "      <th>children</th>\n",
       "      <th>smoker</th>\n",
       "      <th>region</th>\n",
       "      <th>charges</th>\n",
       "    </tr>\n",
       "  </thead>\n",
       "  <tbody>\n",
       "    <tr>\n",
       "      <th>0</th>\n",
       "      <td>19</td>\n",
       "      <td>female</td>\n",
       "      <td>27.900</td>\n",
       "      <td>0</td>\n",
       "      <td>yes</td>\n",
       "      <td>southwest</td>\n",
       "      <td>16884.92400</td>\n",
       "    </tr>\n",
       "    <tr>\n",
       "      <th>1</th>\n",
       "      <td>18</td>\n",
       "      <td>male</td>\n",
       "      <td>33.770</td>\n",
       "      <td>1</td>\n",
       "      <td>no</td>\n",
       "      <td>southeast</td>\n",
       "      <td>1725.55230</td>\n",
       "    </tr>\n",
       "    <tr>\n",
       "      <th>2</th>\n",
       "      <td>28</td>\n",
       "      <td>male</td>\n",
       "      <td>33.000</td>\n",
       "      <td>3</td>\n",
       "      <td>no</td>\n",
       "      <td>southeast</td>\n",
       "      <td>4449.46200</td>\n",
       "    </tr>\n",
       "    <tr>\n",
       "      <th>3</th>\n",
       "      <td>33</td>\n",
       "      <td>male</td>\n",
       "      <td>22.705</td>\n",
       "      <td>0</td>\n",
       "      <td>no</td>\n",
       "      <td>northwest</td>\n",
       "      <td>21984.47061</td>\n",
       "    </tr>\n",
       "    <tr>\n",
       "      <th>4</th>\n",
       "      <td>32</td>\n",
       "      <td>male</td>\n",
       "      <td>28.880</td>\n",
       "      <td>0</td>\n",
       "      <td>no</td>\n",
       "      <td>northwest</td>\n",
       "      <td>3866.85520</td>\n",
       "    </tr>\n",
       "  </tbody>\n",
       "</table>\n",
       "</div>"
      ],
      "text/plain": [
       "   age     sex     bmi  children smoker     region      charges\n",
       "0   19  female  27.900         0    yes  southwest  16884.92400\n",
       "1   18    male  33.770         1     no  southeast   1725.55230\n",
       "2   28    male  33.000         3     no  southeast   4449.46200\n",
       "3   33    male  22.705         0     no  northwest  21984.47061\n",
       "4   32    male  28.880         0     no  northwest   3866.85520"
      ]
     },
     "execution_count": 3,
     "metadata": {},
     "output_type": "execute_result"
    }
   ],
   "source": [
    "insurance.head()"
   ]
  },
  {
   "cell_type": "code",
   "execution_count": 4,
   "id": "8a0470bd",
   "metadata": {},
   "outputs": [],
   "source": [
    "insur_one_hot=pd.get_dummies(insurance)"
   ]
  },
  {
   "cell_type": "code",
   "execution_count": 5,
   "id": "34f7e57a",
   "metadata": {},
   "outputs": [
    {
     "data": {
      "text/html": [
       "<div>\n",
       "<style scoped>\n",
       "    .dataframe tbody tr th:only-of-type {\n",
       "        vertical-align: middle;\n",
       "    }\n",
       "\n",
       "    .dataframe tbody tr th {\n",
       "        vertical-align: top;\n",
       "    }\n",
       "\n",
       "    .dataframe thead th {\n",
       "        text-align: right;\n",
       "    }\n",
       "</style>\n",
       "<table border=\"1\" class=\"dataframe\">\n",
       "  <thead>\n",
       "    <tr style=\"text-align: right;\">\n",
       "      <th></th>\n",
       "      <th>age</th>\n",
       "      <th>bmi</th>\n",
       "      <th>children</th>\n",
       "      <th>charges</th>\n",
       "      <th>sex_female</th>\n",
       "      <th>sex_male</th>\n",
       "      <th>smoker_no</th>\n",
       "      <th>smoker_yes</th>\n",
       "      <th>region_northeast</th>\n",
       "      <th>region_northwest</th>\n",
       "      <th>region_southeast</th>\n",
       "      <th>region_southwest</th>\n",
       "    </tr>\n",
       "  </thead>\n",
       "  <tbody>\n",
       "    <tr>\n",
       "      <th>0</th>\n",
       "      <td>19</td>\n",
       "      <td>27.900</td>\n",
       "      <td>0</td>\n",
       "      <td>16884.92400</td>\n",
       "      <td>1</td>\n",
       "      <td>0</td>\n",
       "      <td>0</td>\n",
       "      <td>1</td>\n",
       "      <td>0</td>\n",
       "      <td>0</td>\n",
       "      <td>0</td>\n",
       "      <td>1</td>\n",
       "    </tr>\n",
       "    <tr>\n",
       "      <th>1</th>\n",
       "      <td>18</td>\n",
       "      <td>33.770</td>\n",
       "      <td>1</td>\n",
       "      <td>1725.55230</td>\n",
       "      <td>0</td>\n",
       "      <td>1</td>\n",
       "      <td>1</td>\n",
       "      <td>0</td>\n",
       "      <td>0</td>\n",
       "      <td>0</td>\n",
       "      <td>1</td>\n",
       "      <td>0</td>\n",
       "    </tr>\n",
       "    <tr>\n",
       "      <th>2</th>\n",
       "      <td>28</td>\n",
       "      <td>33.000</td>\n",
       "      <td>3</td>\n",
       "      <td>4449.46200</td>\n",
       "      <td>0</td>\n",
       "      <td>1</td>\n",
       "      <td>1</td>\n",
       "      <td>0</td>\n",
       "      <td>0</td>\n",
       "      <td>0</td>\n",
       "      <td>1</td>\n",
       "      <td>0</td>\n",
       "    </tr>\n",
       "    <tr>\n",
       "      <th>3</th>\n",
       "      <td>33</td>\n",
       "      <td>22.705</td>\n",
       "      <td>0</td>\n",
       "      <td>21984.47061</td>\n",
       "      <td>0</td>\n",
       "      <td>1</td>\n",
       "      <td>1</td>\n",
       "      <td>0</td>\n",
       "      <td>0</td>\n",
       "      <td>1</td>\n",
       "      <td>0</td>\n",
       "      <td>0</td>\n",
       "    </tr>\n",
       "    <tr>\n",
       "      <th>4</th>\n",
       "      <td>32</td>\n",
       "      <td>28.880</td>\n",
       "      <td>0</td>\n",
       "      <td>3866.85520</td>\n",
       "      <td>0</td>\n",
       "      <td>1</td>\n",
       "      <td>1</td>\n",
       "      <td>0</td>\n",
       "      <td>0</td>\n",
       "      <td>1</td>\n",
       "      <td>0</td>\n",
       "      <td>0</td>\n",
       "    </tr>\n",
       "  </tbody>\n",
       "</table>\n",
       "</div>"
      ],
      "text/plain": [
       "   age     bmi  children      charges  sex_female  sex_male  smoker_no  \\\n",
       "0   19  27.900         0  16884.92400           1         0          0   \n",
       "1   18  33.770         1   1725.55230           0         1          1   \n",
       "2   28  33.000         3   4449.46200           0         1          1   \n",
       "3   33  22.705         0  21984.47061           0         1          1   \n",
       "4   32  28.880         0   3866.85520           0         1          1   \n",
       "\n",
       "   smoker_yes  region_northeast  region_northwest  region_southeast  \\\n",
       "0           1                 0                 0                 0   \n",
       "1           0                 0                 0                 1   \n",
       "2           0                 0                 0                 1   \n",
       "3           0                 0                 1                 0   \n",
       "4           0                 0                 1                 0   \n",
       "\n",
       "   region_southwest  \n",
       "0                 1  \n",
       "1                 0  \n",
       "2                 0  \n",
       "3                 0  \n",
       "4                 0  "
      ]
     },
     "execution_count": 5,
     "metadata": {},
     "output_type": "execute_result"
    }
   ],
   "source": [
    "insur_one_hot.head()"
   ]
  },
  {
   "cell_type": "code",
   "execution_count": 6,
   "id": "a8e14af5",
   "metadata": {},
   "outputs": [],
   "source": [
    "X=insur_one_hot.drop(\"charges\",axis=1)"
   ]
  },
  {
   "cell_type": "code",
   "execution_count": 7,
   "id": "d8dd3b67",
   "metadata": {},
   "outputs": [
    {
     "data": {
      "text/html": [
       "<div>\n",
       "<style scoped>\n",
       "    .dataframe tbody tr th:only-of-type {\n",
       "        vertical-align: middle;\n",
       "    }\n",
       "\n",
       "    .dataframe tbody tr th {\n",
       "        vertical-align: top;\n",
       "    }\n",
       "\n",
       "    .dataframe thead th {\n",
       "        text-align: right;\n",
       "    }\n",
       "</style>\n",
       "<table border=\"1\" class=\"dataframe\">\n",
       "  <thead>\n",
       "    <tr style=\"text-align: right;\">\n",
       "      <th></th>\n",
       "      <th>age</th>\n",
       "      <th>bmi</th>\n",
       "      <th>children</th>\n",
       "      <th>sex_female</th>\n",
       "      <th>sex_male</th>\n",
       "      <th>smoker_no</th>\n",
       "      <th>smoker_yes</th>\n",
       "      <th>region_northeast</th>\n",
       "      <th>region_northwest</th>\n",
       "      <th>region_southeast</th>\n",
       "      <th>region_southwest</th>\n",
       "    </tr>\n",
       "  </thead>\n",
       "  <tbody>\n",
       "    <tr>\n",
       "      <th>0</th>\n",
       "      <td>19</td>\n",
       "      <td>27.900</td>\n",
       "      <td>0</td>\n",
       "      <td>1</td>\n",
       "      <td>0</td>\n",
       "      <td>0</td>\n",
       "      <td>1</td>\n",
       "      <td>0</td>\n",
       "      <td>0</td>\n",
       "      <td>0</td>\n",
       "      <td>1</td>\n",
       "    </tr>\n",
       "    <tr>\n",
       "      <th>1</th>\n",
       "      <td>18</td>\n",
       "      <td>33.770</td>\n",
       "      <td>1</td>\n",
       "      <td>0</td>\n",
       "      <td>1</td>\n",
       "      <td>1</td>\n",
       "      <td>0</td>\n",
       "      <td>0</td>\n",
       "      <td>0</td>\n",
       "      <td>1</td>\n",
       "      <td>0</td>\n",
       "    </tr>\n",
       "    <tr>\n",
       "      <th>2</th>\n",
       "      <td>28</td>\n",
       "      <td>33.000</td>\n",
       "      <td>3</td>\n",
       "      <td>0</td>\n",
       "      <td>1</td>\n",
       "      <td>1</td>\n",
       "      <td>0</td>\n",
       "      <td>0</td>\n",
       "      <td>0</td>\n",
       "      <td>1</td>\n",
       "      <td>0</td>\n",
       "    </tr>\n",
       "    <tr>\n",
       "      <th>3</th>\n",
       "      <td>33</td>\n",
       "      <td>22.705</td>\n",
       "      <td>0</td>\n",
       "      <td>0</td>\n",
       "      <td>1</td>\n",
       "      <td>1</td>\n",
       "      <td>0</td>\n",
       "      <td>0</td>\n",
       "      <td>1</td>\n",
       "      <td>0</td>\n",
       "      <td>0</td>\n",
       "    </tr>\n",
       "    <tr>\n",
       "      <th>4</th>\n",
       "      <td>32</td>\n",
       "      <td>28.880</td>\n",
       "      <td>0</td>\n",
       "      <td>0</td>\n",
       "      <td>1</td>\n",
       "      <td>1</td>\n",
       "      <td>0</td>\n",
       "      <td>0</td>\n",
       "      <td>1</td>\n",
       "      <td>0</td>\n",
       "      <td>0</td>\n",
       "    </tr>\n",
       "  </tbody>\n",
       "</table>\n",
       "</div>"
      ],
      "text/plain": [
       "   age     bmi  children  sex_female  sex_male  smoker_no  smoker_yes  \\\n",
       "0   19  27.900         0           1         0          0           1   \n",
       "1   18  33.770         1           0         1          1           0   \n",
       "2   28  33.000         3           0         1          1           0   \n",
       "3   33  22.705         0           0         1          1           0   \n",
       "4   32  28.880         0           0         1          1           0   \n",
       "\n",
       "   region_northeast  region_northwest  region_southeast  region_southwest  \n",
       "0                 0                 0                 0                 1  \n",
       "1                 0                 0                 1                 0  \n",
       "2                 0                 0                 1                 0  \n",
       "3                 0                 1                 0                 0  \n",
       "4                 0                 1                 0                 0  "
      ]
     },
     "execution_count": 7,
     "metadata": {},
     "output_type": "execute_result"
    }
   ],
   "source": [
    "X.head()"
   ]
  },
  {
   "cell_type": "code",
   "execution_count": 8,
   "id": "61f35479",
   "metadata": {},
   "outputs": [],
   "source": [
    "y=insur_one_hot[\"charges\"]"
   ]
  },
  {
   "cell_type": "code",
   "execution_count": 9,
   "id": "007575c1",
   "metadata": {},
   "outputs": [],
   "source": [
    "from sklearn.model_selection import train_test_split"
   ]
  },
  {
   "cell_type": "code",
   "execution_count": 10,
   "id": "ec9e391d",
   "metadata": {},
   "outputs": [],
   "source": [
    "X_train,X_test,y_train,y_test=train_test_split(X,y,test_size=0.2,random_state=42)"
   ]
  },
  {
   "cell_type": "code",
   "execution_count": 11,
   "id": "ae6584b8",
   "metadata": {},
   "outputs": [
    {
     "data": {
      "text/html": [
       "<div>\n",
       "<style scoped>\n",
       "    .dataframe tbody tr th:only-of-type {\n",
       "        vertical-align: middle;\n",
       "    }\n",
       "\n",
       "    .dataframe tbody tr th {\n",
       "        vertical-align: top;\n",
       "    }\n",
       "\n",
       "    .dataframe thead th {\n",
       "        text-align: right;\n",
       "    }\n",
       "</style>\n",
       "<table border=\"1\" class=\"dataframe\">\n",
       "  <thead>\n",
       "    <tr style=\"text-align: right;\">\n",
       "      <th></th>\n",
       "      <th>age</th>\n",
       "      <th>bmi</th>\n",
       "      <th>children</th>\n",
       "      <th>sex_female</th>\n",
       "      <th>sex_male</th>\n",
       "      <th>smoker_no</th>\n",
       "      <th>smoker_yes</th>\n",
       "      <th>region_northeast</th>\n",
       "      <th>region_northwest</th>\n",
       "      <th>region_southeast</th>\n",
       "      <th>region_southwest</th>\n",
       "    </tr>\n",
       "  </thead>\n",
       "  <tbody>\n",
       "    <tr>\n",
       "      <th>764</th>\n",
       "      <td>45</td>\n",
       "      <td>25.175</td>\n",
       "      <td>2</td>\n",
       "      <td>1</td>\n",
       "      <td>0</td>\n",
       "      <td>1</td>\n",
       "      <td>0</td>\n",
       "      <td>1</td>\n",
       "      <td>0</td>\n",
       "      <td>0</td>\n",
       "      <td>0</td>\n",
       "    </tr>\n",
       "    <tr>\n",
       "      <th>887</th>\n",
       "      <td>36</td>\n",
       "      <td>30.020</td>\n",
       "      <td>0</td>\n",
       "      <td>1</td>\n",
       "      <td>0</td>\n",
       "      <td>1</td>\n",
       "      <td>0</td>\n",
       "      <td>0</td>\n",
       "      <td>1</td>\n",
       "      <td>0</td>\n",
       "      <td>0</td>\n",
       "    </tr>\n",
       "    <tr>\n",
       "      <th>890</th>\n",
       "      <td>64</td>\n",
       "      <td>26.885</td>\n",
       "      <td>0</td>\n",
       "      <td>1</td>\n",
       "      <td>0</td>\n",
       "      <td>0</td>\n",
       "      <td>1</td>\n",
       "      <td>0</td>\n",
       "      <td>1</td>\n",
       "      <td>0</td>\n",
       "      <td>0</td>\n",
       "    </tr>\n",
       "    <tr>\n",
       "      <th>1293</th>\n",
       "      <td>46</td>\n",
       "      <td>25.745</td>\n",
       "      <td>3</td>\n",
       "      <td>0</td>\n",
       "      <td>1</td>\n",
       "      <td>1</td>\n",
       "      <td>0</td>\n",
       "      <td>0</td>\n",
       "      <td>1</td>\n",
       "      <td>0</td>\n",
       "      <td>0</td>\n",
       "    </tr>\n",
       "    <tr>\n",
       "      <th>259</th>\n",
       "      <td>19</td>\n",
       "      <td>31.920</td>\n",
       "      <td>0</td>\n",
       "      <td>0</td>\n",
       "      <td>1</td>\n",
       "      <td>0</td>\n",
       "      <td>1</td>\n",
       "      <td>0</td>\n",
       "      <td>1</td>\n",
       "      <td>0</td>\n",
       "      <td>0</td>\n",
       "    </tr>\n",
       "  </tbody>\n",
       "</table>\n",
       "</div>"
      ],
      "text/plain": [
       "      age     bmi  children  sex_female  sex_male  smoker_no  smoker_yes  \\\n",
       "764    45  25.175         2           1         0          1           0   \n",
       "887    36  30.020         0           1         0          1           0   \n",
       "890    64  26.885         0           1         0          0           1   \n",
       "1293   46  25.745         3           0         1          1           0   \n",
       "259    19  31.920         0           0         1          0           1   \n",
       "\n",
       "      region_northeast  region_northwest  region_southeast  region_southwest  \n",
       "764                  1                 0                 0                 0  \n",
       "887                  0                 1                 0                 0  \n",
       "890                  0                 1                 0                 0  \n",
       "1293                 0                 1                 0                 0  \n",
       "259                  0                 1                 0                 0  "
      ]
     },
     "execution_count": 11,
     "metadata": {},
     "output_type": "execute_result"
    }
   ],
   "source": [
    "X_test.head()"
   ]
  },
  {
   "cell_type": "code",
   "execution_count": 12,
   "id": "e3157d0c",
   "metadata": {},
   "outputs": [
    {
     "data": {
      "text/plain": [
       "(1070, 268)"
      ]
     },
     "execution_count": 12,
     "metadata": {},
     "output_type": "execute_result"
    }
   ],
   "source": [
    "len(X_train),len(y_test)"
   ]
  },
  {
   "cell_type": "code",
   "execution_count": 13,
   "id": "528986a1",
   "metadata": {},
   "outputs": [],
   "source": [
    "tf.random.set_seed(42)\n",
    "model=tf.keras.Sequential([\n",
    "    tf.keras.layers.Dense(1)\n",
    "])\n",
    "model.compile(loss=tf.keras.losses.mae,\n",
    "             optimizer=tf.keras.optimizers.SGD(),\n",
    "             metrics=[\"mae\"])\n",
    "history=model.fit(X_train,y_train,epochs=100,verbose=0)"
   ]
  },
  {
   "cell_type": "code",
   "execution_count": 14,
   "id": "2d6f7363",
   "metadata": {},
   "outputs": [
    {
     "name": "stdout",
     "output_type": "stream",
     "text": [
      "9/9 [==============================] - 0s 899us/step - loss: 7000.7295 - mae: 7000.7295\n"
     ]
    },
    {
     "data": {
      "text/plain": [
       "[7000.7294921875, 7000.7294921875]"
      ]
     },
     "execution_count": 14,
     "metadata": {},
     "output_type": "execute_result"
    }
   ],
   "source": [
    "model.evaluate(X_test,y_test)"
   ]
  },
  {
   "cell_type": "code",
   "execution_count": 15,
   "id": "9ee96ad6",
   "metadata": {},
   "outputs": [],
   "source": [
    "y_pred=model.predict(X_test)"
   ]
  },
  {
   "cell_type": "code",
   "execution_count": 16,
   "id": "09011e4e",
   "metadata": {},
   "outputs": [
    {
     "data": {
      "text/plain": [
       "array([[ 9072.719 ],\n",
       "       [ 7372.5117],\n",
       "       [12787.798 ],\n",
       "       [ 9275.977 ],\n",
       "       [ 4104.762 ],\n",
       "       [ 7150.054 ],\n",
       "       [ 3973.3418],\n",
       "       [12912.462 ],\n",
       "       [ 5657.918 ],\n",
       "       [ 9896.432 ],\n",
       "       [ 6161.9663],\n",
       "       [ 8360.473 ],\n",
       "       [ 6011.837 ],\n",
       "       [ 9500.472 ],\n",
       "       [12186.842 ],\n",
       "       [ 9646.0625],\n",
       "       [10070.422 ],\n",
       "       [ 9613.078 ],\n",
       "       [ 9296.024 ],\n",
       "       [ 8706.676 ],\n",
       "       [ 5181.07  ],\n",
       "       [ 8773.57  ],\n",
       "       [ 4070.6658],\n",
       "       [ 4778.0977],\n",
       "       [10085.305 ],\n",
       "       [10906.375 ],\n",
       "       [12100.098 ],\n",
       "       [ 5644.4897],\n",
       "       [ 9479.511 ],\n",
       "       [ 3873.9175],\n",
       "       [ 8161.1836],\n",
       "       [11476.578 ],\n",
       "       [ 4518.844 ],\n",
       "       [ 6094.665 ],\n",
       "       [ 5431.3545],\n",
       "       [ 9246.116 ],\n",
       "       [ 4415.676 ],\n",
       "       [ 8735.628 ],\n",
       "       [10426.107 ],\n",
       "       [ 7455.3887],\n",
       "       [ 4076.5637],\n",
       "       [ 4672.29  ],\n",
       "       [11337.039 ],\n",
       "       [11782.563 ],\n",
       "       [ 6871.1196],\n",
       "       [11812.765 ],\n",
       "       [ 4514.115 ],\n",
       "       [ 5177.136 ],\n",
       "       [ 8836.351 ],\n",
       "       [ 6516.001 ],\n",
       "       [12699.267 ],\n",
       "       [ 3869.529 ],\n",
       "       [ 8300.187 ],\n",
       "       [ 3825.058 ],\n",
       "       [11313.34  ],\n",
       "       [10130.792 ],\n",
       "       [ 6148.674 ],\n",
       "       [ 6484.43  ],\n",
       "       [11685.994 ],\n",
       "       [10719.282 ],\n",
       "       [12641.165 ],\n",
       "       [ 6383.5713],\n",
       "       [12321.567 ],\n",
       "       [ 8485.34  ],\n",
       "       [10494.752 ],\n",
       "       [ 5771.2695],\n",
       "       [ 4434.8394],\n",
       "       [10450.104 ],\n",
       "       [ 5144.7764],\n",
       "       [ 4769.3633],\n",
       "       [ 7856.1206],\n",
       "       [ 9357.631 ],\n",
       "       [ 9746.424 ],\n",
       "       [ 7993.806 ],\n",
       "       [ 9032.814 ],\n",
       "       [ 7371.006 ],\n",
       "       [ 5672.43  ],\n",
       "       [11203.742 ],\n",
       "       [ 5866.246 ],\n",
       "       [ 9081.716 ],\n",
       "       [ 4303.1475],\n",
       "       [12396.868 ],\n",
       "       [ 6602.0273],\n",
       "       [ 4957.0273],\n",
       "       [ 4955.578 ],\n",
       "       [10130.013 ],\n",
       "       [ 6240.365 ],\n",
       "       [11098.196 ],\n",
       "       [ 8752.139 ],\n",
       "       [10773.21  ],\n",
       "       [12540.724 ],\n",
       "       [12738.05  ],\n",
       "       [ 9481.717 ],\n",
       "       [ 6381.5884],\n",
       "       [ 6879.3633],\n",
       "       [ 8379.808 ],\n",
       "       [ 6598.327 ],\n",
       "       [ 4300.7334],\n",
       "       [ 6155.407 ],\n",
       "       [ 7107.5894],\n",
       "       [ 6191.3467],\n",
       "       [ 4053.3784],\n",
       "       [ 8472.364 ],\n",
       "       [11349.872 ],\n",
       "       [12150.241 ],\n",
       "       [ 3943.6409],\n",
       "       [ 8944.526 ],\n",
       "       [10571.97  ],\n",
       "       [ 3765.883 ],\n",
       "       [10604.321 ],\n",
       "       [ 4104.9883],\n",
       "       [ 5642.383 ],\n",
       "       [11685.508 ],\n",
       "       [ 7028.975 ],\n",
       "       [ 9915.926 ],\n",
       "       [ 4303.456 ],\n",
       "       [12018.7   ],\n",
       "       [ 8713.993 ],\n",
       "       [ 7587.3315],\n",
       "       [ 4815.9077],\n",
       "       [ 7032.239 ],\n",
       "       [ 8406.363 ],\n",
       "       [10600.956 ],\n",
       "       [ 5112.666 ],\n",
       "       [ 5750.1006],\n",
       "       [ 8393.652 ],\n",
       "       [ 8809.492 ],\n",
       "       [ 9902.068 ],\n",
       "       [11907.927 ],\n",
       "       [ 4995.2354],\n",
       "       [ 6581.0645],\n",
       "       [ 7247.0195],\n",
       "       [ 7262.977 ],\n",
       "       [ 9228.575 ],\n",
       "       [ 7989.738 ],\n",
       "       [11934.802 ],\n",
       "       [ 6856.08  ],\n",
       "       [ 8549.024 ],\n",
       "       [ 9054.388 ],\n",
       "       [ 7592.101 ],\n",
       "       [ 7332.6587],\n",
       "       [10339.058 ],\n",
       "       [ 5495.751 ],\n",
       "       [10588.143 ],\n",
       "       [ 5178.358 ],\n",
       "       [ 9864.264 ],\n",
       "       [ 6765.9067],\n",
       "       [ 6387.9897],\n",
       "       [10384.711 ],\n",
       "       [ 7186.7627],\n",
       "       [10793.071 ],\n",
       "       [ 4821.9497],\n",
       "       [ 4013.7512],\n",
       "       [ 6660.254 ],\n",
       "       [ 7900.639 ],\n",
       "       [ 7043.173 ],\n",
       "       [12452.062 ],\n",
       "       [ 9507.144 ],\n",
       "       [ 4121.4365],\n",
       "       [ 8204.098 ],\n",
       "       [11683.662 ],\n",
       "       [ 4019.802 ],\n",
       "       [12765.708 ],\n",
       "       [ 4776.223 ],\n",
       "       [ 4893.4595],\n",
       "       [ 8638.35  ],\n",
       "       [12729.811 ],\n",
       "       [11481.769 ],\n",
       "       [ 8963.341 ],\n",
       "       [ 5237.2095],\n",
       "       [ 9792.339 ],\n",
       "       [ 7991.324 ],\n",
       "       [ 8116.3115],\n",
       "       [ 6352.506 ],\n",
       "       [ 4613.5137],\n",
       "       [ 9468.667 ],\n",
       "       [ 4049.9868],\n",
       "       [12944.961 ],\n",
       "       [ 6463.811 ],\n",
       "       [11366.682 ],\n",
       "       [12606.273 ],\n",
       "       [ 4296.906 ],\n",
       "       [ 9381.019 ],\n",
       "       [ 7034.883 ],\n",
       "       [ 5933.0967],\n",
       "       [ 5082.71  ],\n",
       "       [ 6012.871 ],\n",
       "       [ 6175.8535],\n",
       "       [ 9709.902 ],\n",
       "       [11032.983 ],\n",
       "       [ 4949.393 ],\n",
       "       [ 3865.484 ],\n",
       "       [ 4566.758 ],\n",
       "       [ 6502.1797],\n",
       "       [12535.308 ],\n",
       "       [10339.23  ],\n",
       "       [ 4004.1025],\n",
       "       [10868.869 ],\n",
       "       [ 3829.2542],\n",
       "       [10035.94  ],\n",
       "       [ 5330.093 ],\n",
       "       [10459.986 ],\n",
       "       [ 6395.774 ],\n",
       "       [ 4042.7434],\n",
       "       [ 4241.47  ],\n",
       "       [ 5569.876 ],\n",
       "       [10045.588 ],\n",
       "       [ 4556.8594],\n",
       "       [ 9831.34  ],\n",
       "       [ 5121.8438],\n",
       "       [12312.838 ],\n",
       "       [11382.017 ],\n",
       "       [ 9558.102 ],\n",
       "       [ 5403.121 ],\n",
       "       [ 8094.456 ],\n",
       "       [ 6181.8535],\n",
       "       [ 6772.4136],\n",
       "       [11830.4375],\n",
       "       [11966.627 ],\n",
       "       [ 7236.602 ],\n",
       "       [ 4529.884 ],\n",
       "       [ 9046.21  ],\n",
       "       [ 7790.913 ],\n",
       "       [ 8857.519 ],\n",
       "       [ 4676.552 ],\n",
       "       [ 5850.53  ],\n",
       "       [ 3947.8674],\n",
       "       [ 4074.2117],\n",
       "       [10291.11  ],\n",
       "       [10065.84  ],\n",
       "       [ 4542.2334],\n",
       "       [10135.435 ],\n",
       "       [ 5952.9067],\n",
       "       [ 8715.3955],\n",
       "       [10333.396 ],\n",
       "       [ 9983.7295],\n",
       "       [ 5449.0083],\n",
       "       [ 8587.5   ],\n",
       "       [ 8694.326 ],\n",
       "       [ 4697.4194],\n",
       "       [11890.055 ],\n",
       "       [ 6103.3315],\n",
       "       [ 5291.541 ],\n",
       "       [ 5433.0146],\n",
       "       [ 4005.3755],\n",
       "       [ 5440.624 ],\n",
       "       [ 5795.433 ],\n",
       "       [ 6616.4575],\n",
       "       [10721.377 ],\n",
       "       [ 3907.5554],\n",
       "       [ 4256.6157],\n",
       "       [ 8230.276 ],\n",
       "       [ 5763.0225],\n",
       "       [11356.551 ],\n",
       "       [ 4097.092 ],\n",
       "       [ 5268.0405],\n",
       "       [12019.501 ],\n",
       "       [ 5482.2534],\n",
       "       [ 9803.68  ],\n",
       "       [ 6424.999 ],\n",
       "       [ 8149.1606],\n",
       "       [12117.47  ],\n",
       "       [ 5624.0283],\n",
       "       [12695.747 ],\n",
       "       [11611.742 ],\n",
       "       [ 7741.3936],\n",
       "       [11105.089 ],\n",
       "       [10345.004 ]], dtype=float32)"
      ]
     },
     "execution_count": 16,
     "metadata": {},
     "output_type": "execute_result"
    }
   ],
   "source": [
    "y_pred"
   ]
  },
  {
   "cell_type": "code",
   "execution_count": 17,
   "id": "8eb90303",
   "metadata": {},
   "outputs": [
    {
     "data": {
      "text/plain": [
       "<tf.Tensor: shape=(268, 1), dtype=float32, numpy=\n",
       "array([[ 9073.],\n",
       "       [ 7373.],\n",
       "       [12788.],\n",
       "       [ 9276.],\n",
       "       [ 4105.],\n",
       "       [ 7150.],\n",
       "       [ 3973.],\n",
       "       [12912.],\n",
       "       [ 5658.],\n",
       "       [ 9896.],\n",
       "       [ 6162.],\n",
       "       [ 8360.],\n",
       "       [ 6012.],\n",
       "       [ 9500.],\n",
       "       [12187.],\n",
       "       [ 9646.],\n",
       "       [10070.],\n",
       "       [ 9613.],\n",
       "       [ 9296.],\n",
       "       [ 8707.],\n",
       "       [ 5181.],\n",
       "       [ 8774.],\n",
       "       [ 4071.],\n",
       "       [ 4778.],\n",
       "       [10085.],\n",
       "       [10906.],\n",
       "       [12100.],\n",
       "       [ 5644.],\n",
       "       [ 9480.],\n",
       "       [ 3874.],\n",
       "       [ 8161.],\n",
       "       [11477.],\n",
       "       [ 4519.],\n",
       "       [ 6095.],\n",
       "       [ 5431.],\n",
       "       [ 9246.],\n",
       "       [ 4416.],\n",
       "       [ 8736.],\n",
       "       [10426.],\n",
       "       [ 7455.],\n",
       "       [ 4077.],\n",
       "       [ 4672.],\n",
       "       [11337.],\n",
       "       [11783.],\n",
       "       [ 6871.],\n",
       "       [11813.],\n",
       "       [ 4514.],\n",
       "       [ 5177.],\n",
       "       [ 8836.],\n",
       "       [ 6516.],\n",
       "       [12699.],\n",
       "       [ 3870.],\n",
       "       [ 8300.],\n",
       "       [ 3825.],\n",
       "       [11313.],\n",
       "       [10131.],\n",
       "       [ 6149.],\n",
       "       [ 6484.],\n",
       "       [11686.],\n",
       "       [10719.],\n",
       "       [12641.],\n",
       "       [ 6384.],\n",
       "       [12322.],\n",
       "       [ 8485.],\n",
       "       [10495.],\n",
       "       [ 5771.],\n",
       "       [ 4435.],\n",
       "       [10450.],\n",
       "       [ 5145.],\n",
       "       [ 4769.],\n",
       "       [ 7856.],\n",
       "       [ 9358.],\n",
       "       [ 9746.],\n",
       "       [ 7994.],\n",
       "       [ 9033.],\n",
       "       [ 7371.],\n",
       "       [ 5672.],\n",
       "       [11204.],\n",
       "       [ 5866.],\n",
       "       [ 9082.],\n",
       "       [ 4303.],\n",
       "       [12397.],\n",
       "       [ 6602.],\n",
       "       [ 4957.],\n",
       "       [ 4956.],\n",
       "       [10130.],\n",
       "       [ 6240.],\n",
       "       [11098.],\n",
       "       [ 8752.],\n",
       "       [10773.],\n",
       "       [12541.],\n",
       "       [12738.],\n",
       "       [ 9482.],\n",
       "       [ 6382.],\n",
       "       [ 6879.],\n",
       "       [ 8380.],\n",
       "       [ 6598.],\n",
       "       [ 4301.],\n",
       "       [ 6155.],\n",
       "       [ 7108.],\n",
       "       [ 6191.],\n",
       "       [ 4053.],\n",
       "       [ 8472.],\n",
       "       [11350.],\n",
       "       [12150.],\n",
       "       [ 3944.],\n",
       "       [ 8945.],\n",
       "       [10572.],\n",
       "       [ 3766.],\n",
       "       [10604.],\n",
       "       [ 4105.],\n",
       "       [ 5642.],\n",
       "       [11686.],\n",
       "       [ 7029.],\n",
       "       [ 9916.],\n",
       "       [ 4303.],\n",
       "       [12019.],\n",
       "       [ 8714.],\n",
       "       [ 7587.],\n",
       "       [ 4816.],\n",
       "       [ 7032.],\n",
       "       [ 8406.],\n",
       "       [10601.],\n",
       "       [ 5113.],\n",
       "       [ 5750.],\n",
       "       [ 8394.],\n",
       "       [ 8809.],\n",
       "       [ 9902.],\n",
       "       [11908.],\n",
       "       [ 4995.],\n",
       "       [ 6581.],\n",
       "       [ 7247.],\n",
       "       [ 7263.],\n",
       "       [ 9229.],\n",
       "       [ 7990.],\n",
       "       [11935.],\n",
       "       [ 6856.],\n",
       "       [ 8549.],\n",
       "       [ 9054.],\n",
       "       [ 7592.],\n",
       "       [ 7333.],\n",
       "       [10339.],\n",
       "       [ 5496.],\n",
       "       [10588.],\n",
       "       [ 5178.],\n",
       "       [ 9864.],\n",
       "       [ 6766.],\n",
       "       [ 6388.],\n",
       "       [10385.],\n",
       "       [ 7187.],\n",
       "       [10793.],\n",
       "       [ 4822.],\n",
       "       [ 4014.],\n",
       "       [ 6660.],\n",
       "       [ 7901.],\n",
       "       [ 7043.],\n",
       "       [12452.],\n",
       "       [ 9507.],\n",
       "       [ 4121.],\n",
       "       [ 8204.],\n",
       "       [11684.],\n",
       "       [ 4020.],\n",
       "       [12766.],\n",
       "       [ 4776.],\n",
       "       [ 4893.],\n",
       "       [ 8638.],\n",
       "       [12730.],\n",
       "       [11482.],\n",
       "       [ 8963.],\n",
       "       [ 5237.],\n",
       "       [ 9792.],\n",
       "       [ 7991.],\n",
       "       [ 8116.],\n",
       "       [ 6353.],\n",
       "       [ 4614.],\n",
       "       [ 9469.],\n",
       "       [ 4050.],\n",
       "       [12945.],\n",
       "       [ 6464.],\n",
       "       [11367.],\n",
       "       [12606.],\n",
       "       [ 4297.],\n",
       "       [ 9381.],\n",
       "       [ 7035.],\n",
       "       [ 5933.],\n",
       "       [ 5083.],\n",
       "       [ 6013.],\n",
       "       [ 6176.],\n",
       "       [ 9710.],\n",
       "       [11033.],\n",
       "       [ 4949.],\n",
       "       [ 3865.],\n",
       "       [ 4567.],\n",
       "       [ 6502.],\n",
       "       [12535.],\n",
       "       [10339.],\n",
       "       [ 4004.],\n",
       "       [10869.],\n",
       "       [ 3829.],\n",
       "       [10036.],\n",
       "       [ 5330.],\n",
       "       [10460.],\n",
       "       [ 6396.],\n",
       "       [ 4043.],\n",
       "       [ 4241.],\n",
       "       [ 5570.],\n",
       "       [10046.],\n",
       "       [ 4557.],\n",
       "       [ 9831.],\n",
       "       [ 5122.],\n",
       "       [12313.],\n",
       "       [11382.],\n",
       "       [ 9558.],\n",
       "       [ 5403.],\n",
       "       [ 8094.],\n",
       "       [ 6182.],\n",
       "       [ 6772.],\n",
       "       [11830.],\n",
       "       [11967.],\n",
       "       [ 7237.],\n",
       "       [ 4530.],\n",
       "       [ 9046.],\n",
       "       [ 7791.],\n",
       "       [ 8858.],\n",
       "       [ 4677.],\n",
       "       [ 5851.],\n",
       "       [ 3948.],\n",
       "       [ 4074.],\n",
       "       [10291.],\n",
       "       [10066.],\n",
       "       [ 4542.],\n",
       "       [10135.],\n",
       "       [ 5953.],\n",
       "       [ 8715.],\n",
       "       [10333.],\n",
       "       [ 9984.],\n",
       "       [ 5449.],\n",
       "       [ 8588.],\n",
       "       [ 8694.],\n",
       "       [ 4697.],\n",
       "       [11890.],\n",
       "       [ 6103.],\n",
       "       [ 5292.],\n",
       "       [ 5433.],\n",
       "       [ 4005.],\n",
       "       [ 5441.],\n",
       "       [ 5795.],\n",
       "       [ 6616.],\n",
       "       [10721.],\n",
       "       [ 3908.],\n",
       "       [ 4257.],\n",
       "       [ 8230.],\n",
       "       [ 5763.],\n",
       "       [11357.],\n",
       "       [ 4097.],\n",
       "       [ 5268.],\n",
       "       [12020.],\n",
       "       [ 5482.],\n",
       "       [ 9804.],\n",
       "       [ 6425.],\n",
       "       [ 8149.],\n",
       "       [12117.],\n",
       "       [ 5624.],\n",
       "       [12696.],\n",
       "       [11612.],\n",
       "       [ 7741.],\n",
       "       [11105.],\n",
       "       [10345.]], dtype=float32)>"
      ]
     },
     "execution_count": 17,
     "metadata": {},
     "output_type": "execute_result"
    }
   ],
   "source": [
    "tf.round(y_pred)"
   ]
  },
  {
   "cell_type": "code",
   "execution_count": 18,
   "id": "ef76f3e4",
   "metadata": {},
   "outputs": [],
   "source": [
    "mae_1=tf.keras.losses.mae(y_test,tf.squeeze(y_pred)).numpy()"
   ]
  },
  {
   "cell_type": "code",
   "execution_count": 19,
   "id": "2ea41e53",
   "metadata": {},
   "outputs": [
    {
     "data": {
      "text/plain": [
       "7000.7285"
      ]
     },
     "execution_count": 19,
     "metadata": {},
     "output_type": "execute_result"
    }
   ],
   "source": [
    "mae_1"
   ]
  },
  {
   "cell_type": "code",
   "execution_count": 20,
   "id": "1cafdae0",
   "metadata": {},
   "outputs": [],
   "source": [
    "mse_1=tf.keras.losses.mse(y_test,tf.squeeze(y_pred)).numpy()"
   ]
  },
  {
   "cell_type": "code",
   "execution_count": 21,
   "id": "b7ac99e4",
   "metadata": {},
   "outputs": [
    {
     "data": {
      "text/plain": [
       "163108670.0"
      ]
     },
     "execution_count": 21,
     "metadata": {},
     "output_type": "execute_result"
    }
   ],
   "source": [
    "mse_1"
   ]
  },
  {
   "cell_type": "code",
   "execution_count": 22,
   "id": "b8d7583c",
   "metadata": {},
   "outputs": [],
   "source": [
    "tf.random.set_seed(42)\n",
    "model1=tf.keras.Sequential([\n",
    "    tf.keras.layers.Dense(100,activation=\"relu\"),\n",
    "    tf.keras.layers.Dense(1)\n",
    "])\n",
    "model1.compile(loss=\"mae\",\n",
    "              optimizer=tf.keras.optimizers.SGD(learning_rate=0.01),\n",
    "              metrics=[\"mae\"])\n",
    "history=model1.fit(X_train,y_train,epochs=100,verbose=0)"
   ]
  },
  {
   "cell_type": "code",
   "execution_count": 23,
   "id": "4a0c570b",
   "metadata": {},
   "outputs": [
    {
     "name": "stdout",
     "output_type": "stream",
     "text": [
      "9/9 [==============================] - 0s 1ms/step - loss: 8032.4385 - mae: 8032.4385\n"
     ]
    },
    {
     "data": {
      "text/plain": [
       "[8032.4384765625, 8032.4384765625]"
      ]
     },
     "execution_count": 23,
     "metadata": {},
     "output_type": "execute_result"
    }
   ],
   "source": [
    "model1.evaluate(X_test,y_test)"
   ]
  },
  {
   "cell_type": "code",
   "execution_count": 24,
   "id": "3bfa4cfc",
   "metadata": {},
   "outputs": [],
   "source": [
    "y_preds=model1.predict(X_test)"
   ]
  },
  {
   "cell_type": "code",
   "execution_count": 25,
   "id": "460b3826",
   "metadata": {},
   "outputs": [],
   "source": [
    "mae_2=tf.keras.losses.mae(y_test,tf.squeeze(y_preds)).numpy()"
   ]
  },
  {
   "cell_type": "code",
   "execution_count": 26,
   "id": "9b1c0cc1",
   "metadata": {},
   "outputs": [
    {
     "data": {
      "text/plain": [
       "8032.4385"
      ]
     },
     "execution_count": 26,
     "metadata": {},
     "output_type": "execute_result"
    }
   ],
   "source": [
    "mae_2"
   ]
  },
  {
   "cell_type": "code",
   "execution_count": 27,
   "id": "435ddcb9",
   "metadata": {},
   "outputs": [],
   "source": [
    "mse_2=tf.keras.losses.mse(y_test,tf.squeeze(y_preds)).numpy()"
   ]
  },
  {
   "cell_type": "code",
   "execution_count": 28,
   "id": "85e43a30",
   "metadata": {},
   "outputs": [
    {
     "data": {
      "text/plain": [
       "107633590.0"
      ]
     },
     "execution_count": 28,
     "metadata": {},
     "output_type": "execute_result"
    }
   ],
   "source": [
    "mse_2"
   ]
  },
  {
   "cell_type": "code",
   "execution_count": 29,
   "id": "bba9ad17",
   "metadata": {},
   "outputs": [],
   "source": [
    "tf.random.set_seed(42)\n",
    "model2=tf.keras.Sequential([\n",
    "    tf.keras.layers.Dense(100,activation=\"relu\"),\n",
    "    tf.keras.layers.Dense(10,activation=\"relu\"),\n",
    "    tf.keras.layers.Dense(1)\n",
    "])\n",
    "model2.compile(loss=\"mae\",\n",
    "              optimizer=tf.keras.optimizers.Adam(learning_rate=0.01),\n",
    "              metrics=[\"mae\"])\n",
    "history=model2.fit(X_train,y_train,epochs=100,verbose=0)"
   ]
  },
  {
   "cell_type": "code",
   "execution_count": 30,
   "id": "41f904bd",
   "metadata": {},
   "outputs": [
    {
     "name": "stdout",
     "output_type": "stream",
     "text": [
      "9/9 [==============================] - 0s 840us/step - loss: 2193.9216 - mae: 2193.9216\n"
     ]
    },
    {
     "data": {
      "text/plain": [
       "[2193.921630859375, 2193.921630859375]"
      ]
     },
     "execution_count": 30,
     "metadata": {},
     "output_type": "execute_result"
    }
   ],
   "source": [
    "model2.evaluate(X_test,y_test)"
   ]
  },
  {
   "cell_type": "code",
   "execution_count": 31,
   "id": "2cdb9721",
   "metadata": {},
   "outputs": [],
   "source": [
    "y_preds=model2.predict(X_test)"
   ]
  },
  {
   "cell_type": "code",
   "execution_count": 32,
   "id": "5422007f",
   "metadata": {},
   "outputs": [],
   "source": [
    "mae_3=tf.keras.losses.mae(y_test,tf.squeeze(y_preds)).numpy()"
   ]
  },
  {
   "cell_type": "code",
   "execution_count": 33,
   "id": "3fbc6e09",
   "metadata": {},
   "outputs": [
    {
     "data": {
      "text/plain": [
       "2193.9214"
      ]
     },
     "execution_count": 33,
     "metadata": {},
     "output_type": "execute_result"
    }
   ],
   "source": [
    "mae_3"
   ]
  },
  {
   "cell_type": "code",
   "execution_count": 34,
   "id": "e07dc307",
   "metadata": {},
   "outputs": [],
   "source": [
    "mse_3=tf.keras.losses.mse(y_test,tf.squeeze(y_preds)).numpy()"
   ]
  },
  {
   "cell_type": "code",
   "execution_count": 35,
   "id": "5c646189",
   "metadata": {},
   "outputs": [
    {
     "data": {
      "text/plain": [
       "26242582.0"
      ]
     },
     "execution_count": 35,
     "metadata": {},
     "output_type": "execute_result"
    }
   ],
   "source": [
    "mse_3"
   ]
  },
  {
   "cell_type": "code",
   "execution_count": 36,
   "id": "5e526bb9",
   "metadata": {},
   "outputs": [],
   "source": [
    "tf.random.set_seed(42)\n",
    "model3=tf.keras.Sequential([\n",
    "    tf.keras.layers.Dense(100,activation=\"relu\"),\n",
    "    tf.keras.layers.Dense(10,activation=\"relu\"),\n",
    "    tf.keras.layers.Dense(1)\n",
    "])\n",
    "model3.compile(loss=\"mae\",\n",
    "              optimizer=tf.keras.optimizers.Adam(learning_rate=0.1),\n",
    "              metrics=[\"mae\"])\n",
    "history=model3.fit(X_train,y_train,epochs=100,verbose=0)"
   ]
  },
  {
   "cell_type": "code",
   "execution_count": 37,
   "id": "13add844",
   "metadata": {},
   "outputs": [
    {
     "name": "stdout",
     "output_type": "stream",
     "text": [
      "9/9 [==============================] - 0s 852us/step - loss: 1884.9213 - mae: 1884.9213\n"
     ]
    },
    {
     "data": {
      "text/plain": [
       "[1884.9212646484375, 1884.9212646484375]"
      ]
     },
     "execution_count": 37,
     "metadata": {},
     "output_type": "execute_result"
    }
   ],
   "source": [
    "model3.evaluate(X_test,y_test)"
   ]
  },
  {
   "cell_type": "code",
   "execution_count": 38,
   "id": "40595c46",
   "metadata": {},
   "outputs": [],
   "source": [
    "y_pred=model3.predict(X_test)"
   ]
  },
  {
   "cell_type": "code",
   "execution_count": 39,
   "id": "ffc678f4",
   "metadata": {},
   "outputs": [],
   "source": [
    "mae_4=tf.keras.losses.mae(y_test,tf.squeeze(y_pred)).numpy()"
   ]
  },
  {
   "cell_type": "code",
   "execution_count": 40,
   "id": "b92165c3",
   "metadata": {},
   "outputs": [
    {
     "data": {
      "text/plain": [
       "1884.9211"
      ]
     },
     "execution_count": 40,
     "metadata": {},
     "output_type": "execute_result"
    }
   ],
   "source": [
    "mae_4"
   ]
  },
  {
   "cell_type": "code",
   "execution_count": 41,
   "id": "1a4bee0b",
   "metadata": {},
   "outputs": [],
   "source": [
    "mse_4=tf.keras.losses.mse(y_test,tf.squeeze(y_pred)).numpy()"
   ]
  },
  {
   "cell_type": "code",
   "execution_count": 42,
   "id": "ef196b49",
   "metadata": {},
   "outputs": [
    {
     "data": {
      "text/plain": [
       "22581392.0"
      ]
     },
     "execution_count": 42,
     "metadata": {},
     "output_type": "execute_result"
    }
   ],
   "source": [
    "mse_4"
   ]
  },
  {
   "cell_type": "code",
   "execution_count": 43,
   "id": "3d9c1fea",
   "metadata": {},
   "outputs": [],
   "source": [
    "import tensorflow as tf\n",
    "import pandas as pd"
   ]
  },
  {
   "cell_type": "code",
   "execution_count": 44,
   "id": "7f8b72ad",
   "metadata": {},
   "outputs": [],
   "source": [
    "insur=pd.read_csv(\"insurance.csv\")"
   ]
  },
  {
   "cell_type": "code",
   "execution_count": 45,
   "id": "af6b906d",
   "metadata": {},
   "outputs": [
    {
     "data": {
      "text/html": [
       "<div>\n",
       "<style scoped>\n",
       "    .dataframe tbody tr th:only-of-type {\n",
       "        vertical-align: middle;\n",
       "    }\n",
       "\n",
       "    .dataframe tbody tr th {\n",
       "        vertical-align: top;\n",
       "    }\n",
       "\n",
       "    .dataframe thead th {\n",
       "        text-align: right;\n",
       "    }\n",
       "</style>\n",
       "<table border=\"1\" class=\"dataframe\">\n",
       "  <thead>\n",
       "    <tr style=\"text-align: right;\">\n",
       "      <th></th>\n",
       "      <th>age</th>\n",
       "      <th>sex</th>\n",
       "      <th>bmi</th>\n",
       "      <th>children</th>\n",
       "      <th>smoker</th>\n",
       "      <th>region</th>\n",
       "      <th>charges</th>\n",
       "    </tr>\n",
       "  </thead>\n",
       "  <tbody>\n",
       "    <tr>\n",
       "      <th>0</th>\n",
       "      <td>19</td>\n",
       "      <td>female</td>\n",
       "      <td>27.900</td>\n",
       "      <td>0</td>\n",
       "      <td>yes</td>\n",
       "      <td>southwest</td>\n",
       "      <td>16884.92400</td>\n",
       "    </tr>\n",
       "    <tr>\n",
       "      <th>1</th>\n",
       "      <td>18</td>\n",
       "      <td>male</td>\n",
       "      <td>33.770</td>\n",
       "      <td>1</td>\n",
       "      <td>no</td>\n",
       "      <td>southeast</td>\n",
       "      <td>1725.55230</td>\n",
       "    </tr>\n",
       "    <tr>\n",
       "      <th>2</th>\n",
       "      <td>28</td>\n",
       "      <td>male</td>\n",
       "      <td>33.000</td>\n",
       "      <td>3</td>\n",
       "      <td>no</td>\n",
       "      <td>southeast</td>\n",
       "      <td>4449.46200</td>\n",
       "    </tr>\n",
       "    <tr>\n",
       "      <th>3</th>\n",
       "      <td>33</td>\n",
       "      <td>male</td>\n",
       "      <td>22.705</td>\n",
       "      <td>0</td>\n",
       "      <td>no</td>\n",
       "      <td>northwest</td>\n",
       "      <td>21984.47061</td>\n",
       "    </tr>\n",
       "    <tr>\n",
       "      <th>4</th>\n",
       "      <td>32</td>\n",
       "      <td>male</td>\n",
       "      <td>28.880</td>\n",
       "      <td>0</td>\n",
       "      <td>no</td>\n",
       "      <td>northwest</td>\n",
       "      <td>3866.85520</td>\n",
       "    </tr>\n",
       "  </tbody>\n",
       "</table>\n",
       "</div>"
      ],
      "text/plain": [
       "   age     sex     bmi  children smoker     region      charges\n",
       "0   19  female  27.900         0    yes  southwest  16884.92400\n",
       "1   18    male  33.770         1     no  southeast   1725.55230\n",
       "2   28    male  33.000         3     no  southeast   4449.46200\n",
       "3   33    male  22.705         0     no  northwest  21984.47061\n",
       "4   32    male  28.880         0     no  northwest   3866.85520"
      ]
     },
     "execution_count": 45,
     "metadata": {},
     "output_type": "execute_result"
    }
   ],
   "source": [
    "insur.head()"
   ]
  },
  {
   "cell_type": "code",
   "execution_count": 46,
   "id": "9c4b94b5",
   "metadata": {},
   "outputs": [],
   "source": [
    "X=insur.drop(\"charges\",axis=1)"
   ]
  },
  {
   "cell_type": "code",
   "execution_count": 47,
   "id": "3da1554b",
   "metadata": {},
   "outputs": [],
   "source": [
    "y=insur[\"charges\"]"
   ]
  },
  {
   "cell_type": "code",
   "execution_count": 48,
   "id": "03209bb8",
   "metadata": {},
   "outputs": [],
   "source": [
    "from sklearn.model_selection import train_test_split"
   ]
  },
  {
   "cell_type": "code",
   "execution_count": 49,
   "id": "41bfe245",
   "metadata": {},
   "outputs": [],
   "source": [
    "X_train,X_test,y_train,y_test=train_test_split(X,y,test_size=0.2,\n",
    "                                              random_state=42)\n"
   ]
  },
  {
   "cell_type": "code",
   "execution_count": 50,
   "id": "0bd709a5",
   "metadata": {},
   "outputs": [],
   "source": [
    "from sklearn.compose import make_column_transformer\n",
    "from sklearn.preprocessing import MinMaxScaler,OneHotEncoder"
   ]
  },
  {
   "cell_type": "code",
   "execution_count": 51,
   "id": "0550600f",
   "metadata": {},
   "outputs": [],
   "source": [
    "ct=make_column_transformer((MinMaxScaler(),[\"age\",\"bmi\",\"children\"]),\n",
    "                          (OneHotEncoder(handle_unknown=\"ignore\"),[\"sex\",\"smoker\",\"region\"]))\n",
    "ct.fit(X_train)\n",
    "X_train_norm=ct.transform(X_train)\n",
    "X_test_norm=ct.transform(X_test)"
   ]
  },
  {
   "cell_type": "code",
   "execution_count": 52,
   "id": "eca94894",
   "metadata": {},
   "outputs": [],
   "source": [
    "tf.random.set_seed(42)\n",
    "model4=tf.keras.Sequential([\n",
    "    tf.keras.layers.Dense(100,activation=\"relu\"),\n",
    "    tf.keras.layers.Dense(10,activation=\"relu\"),\n",
    "    tf.keras.layers.Dense(1)\n",
    "])\n",
    "model4.compile(loss=\"mae\",\n",
    "              optimizer=tf.keras.optimizers.Adam(learning_rate=0.1),\n",
    "              metrics=[\"mae\"])\n",
    "history=model4.fit(X_train_norm,y_train,epochs=100,verbose=0)"
   ]
  },
  {
   "cell_type": "code",
   "execution_count": 53,
   "id": "c93154a7",
   "metadata": {},
   "outputs": [
    {
     "name": "stdout",
     "output_type": "stream",
     "text": [
      "9/9 [==============================] - 0s 839us/step - loss: 1774.5952 - mae: 1774.5952\n"
     ]
    },
    {
     "data": {
      "text/plain": [
       "[1774.59521484375, 1774.59521484375]"
      ]
     },
     "execution_count": 53,
     "metadata": {},
     "output_type": "execute_result"
    }
   ],
   "source": [
    "model4.evaluate(X_test_norm,y_test)"
   ]
  },
  {
   "cell_type": "code",
   "execution_count": 54,
   "id": "fc318276",
   "metadata": {},
   "outputs": [],
   "source": [
    "y_pred=model4.predict(X_test_norm)"
   ]
  },
  {
   "cell_type": "code",
   "execution_count": 55,
   "id": "33d515dc",
   "metadata": {},
   "outputs": [],
   "source": [
    "mae_5=tf.keras.losses.mae(y_test,tf.squeeze(y_pred)).numpy()"
   ]
  },
  {
   "cell_type": "code",
   "execution_count": 56,
   "id": "20e72422",
   "metadata": {},
   "outputs": [
    {
     "data": {
      "text/plain": [
       "1774.5951"
      ]
     },
     "execution_count": 56,
     "metadata": {},
     "output_type": "execute_result"
    }
   ],
   "source": [
    "mae_5"
   ]
  },
  {
   "cell_type": "code",
   "execution_count": 57,
   "id": "f02c33b3",
   "metadata": {},
   "outputs": [],
   "source": [
    "mse_5=tf.keras.losses.mse(y_test,tf.squeeze(y_pred)).numpy()"
   ]
  },
  {
   "cell_type": "code",
   "execution_count": 58,
   "id": "fd869775",
   "metadata": {},
   "outputs": [
    {
     "data": {
      "text/plain": [
       "21317378.0"
      ]
     },
     "execution_count": 58,
     "metadata": {},
     "output_type": "execute_result"
    }
   ],
   "source": [
    "mse_5"
   ]
  },
  {
   "cell_type": "code",
   "execution_count": 59,
   "id": "b4bf6b53",
   "metadata": {},
   "outputs": [],
   "source": [
    "tf.random.set_seed(42)\n",
    "model5=tf.keras.Sequential([\n",
    "    tf.keras.layers.Dense(100,activation=\"relu\"),\n",
    "    tf.keras.layers.Dense(100,activation=\"relu\"),\n",
    "    tf.keras.layers.Dense(1)\n",
    "])\n",
    "model5.compile(loss=\"mae\",\n",
    "              optimizer=tf.keras.optimizers.Adam(learning_rate=0.01),\n",
    "              metrics=[\"mae\"])\n",
    "history=model5.fit(X_train_norm,y_train,epochs=100,verbose=0)"
   ]
  },
  {
   "cell_type": "code",
   "execution_count": 60,
   "id": "eb1b3cbc",
   "metadata": {},
   "outputs": [
    {
     "name": "stdout",
     "output_type": "stream",
     "text": [
      "9/9 [==============================] - 0s 917us/step - loss: 1764.5984 - mae: 1764.5984\n"
     ]
    },
    {
     "data": {
      "text/plain": [
       "[1764.598388671875, 1764.598388671875]"
      ]
     },
     "execution_count": 60,
     "metadata": {},
     "output_type": "execute_result"
    }
   ],
   "source": [
    "model5.evaluate(X_test_norm,y_test)"
   ]
  },
  {
   "cell_type": "code",
   "execution_count": 61,
   "id": "b529f000",
   "metadata": {},
   "outputs": [],
   "source": [
    "y_pred=model5.predict(X_test_norm)"
   ]
  },
  {
   "cell_type": "code",
   "execution_count": 62,
   "id": "5e1f350a",
   "metadata": {},
   "outputs": [],
   "source": [
    "mae_6=tf.keras.losses.mae(y_test,tf.squeeze(y_pred)).numpy()"
   ]
  },
  {
   "cell_type": "code",
   "execution_count": 63,
   "id": "555770a4",
   "metadata": {},
   "outputs": [
    {
     "data": {
      "text/plain": [
       "1764.5985"
      ]
     },
     "execution_count": 63,
     "metadata": {},
     "output_type": "execute_result"
    }
   ],
   "source": [
    "mae_6"
   ]
  },
  {
   "cell_type": "code",
   "execution_count": 64,
   "id": "5b589ac6",
   "metadata": {},
   "outputs": [],
   "source": [
    "mse_6=tf.keras.losses.mse(y_test,tf.squeeze(y_pred)).numpy()"
   ]
  },
  {
   "cell_type": "code",
   "execution_count": 65,
   "id": "40e76171",
   "metadata": {},
   "outputs": [
    {
     "data": {
      "text/plain": [
       "21098902.0"
      ]
     },
     "execution_count": 65,
     "metadata": {},
     "output_type": "execute_result"
    }
   ],
   "source": [
    "mse_6"
   ]
  },
  {
   "cell_type": "code",
   "execution_count": 66,
   "id": "c59466c6",
   "metadata": {},
   "outputs": [],
   "source": [
    "tf.random.set_seed(42)\n",
    "model6=tf.keras.Sequential([\n",
    "    tf.keras.layers.Dense(100,activation=\"relu\"),\n",
    "    tf.keras.layers.Dense(100,activation=\"relu\"),\n",
    "    tf.keras.layers.Dense(10,activation=\"relu\"),\n",
    "    tf.keras.layers.Dense(1)\n",
    "])\n",
    "model6.compile(loss=\"mae\",\n",
    "              optimizer=tf.keras.optimizers.Adam(learning_rate=0.1),\n",
    "              metrics=[\"mae\"])\n",
    "history=model6.fit(X_train_norm,y_train,epochs=200,verbose=0)"
   ]
  },
  {
   "cell_type": "code",
   "execution_count": 67,
   "id": "e18293e6",
   "metadata": {},
   "outputs": [
    {
     "name": "stdout",
     "output_type": "stream",
     "text": [
      "9/9 [==============================] - 0s 1ms/step - loss: 1464.4604 - mae: 1464.4604\n"
     ]
    },
    {
     "data": {
      "text/plain": [
       "[1464.46044921875, 1464.46044921875]"
      ]
     },
     "execution_count": 67,
     "metadata": {},
     "output_type": "execute_result"
    }
   ],
   "source": [
    "model6.evaluate(X_test_norm,y_test)"
   ]
  },
  {
   "cell_type": "code",
   "execution_count": 68,
   "id": "7de3394f",
   "metadata": {},
   "outputs": [],
   "source": [
    "y_pred=model6.predict(X_test_norm)"
   ]
  },
  {
   "cell_type": "code",
   "execution_count": 69,
   "id": "a4c534eb",
   "metadata": {},
   "outputs": [],
   "source": [
    "mae_7=tf.keras.losses.mae(y_test,tf.squeeze(y_pred)).numpy()"
   ]
  },
  {
   "cell_type": "code",
   "execution_count": 70,
   "id": "1e8e3cf1",
   "metadata": {},
   "outputs": [
    {
     "data": {
      "text/plain": [
       "1464.4604"
      ]
     },
     "execution_count": 70,
     "metadata": {},
     "output_type": "execute_result"
    }
   ],
   "source": [
    "mae_7"
   ]
  },
  {
   "cell_type": "code",
   "execution_count": 71,
   "id": "fbd10d9e",
   "metadata": {},
   "outputs": [],
   "source": [
    "mse_7=tf.keras.losses.mse(y_test,tf.squeeze(y_pred)).numpy()"
   ]
  },
  {
   "cell_type": "code",
   "execution_count": 72,
   "id": "fd9a0df0",
   "metadata": {},
   "outputs": [
    {
     "data": {
      "text/plain": [
       "19725740.0"
      ]
     },
     "execution_count": 72,
     "metadata": {},
     "output_type": "execute_result"
    }
   ],
   "source": [
    "mse_7"
   ]
  },
  {
   "cell_type": "code",
   "execution_count": 73,
   "id": "fc8181fd",
   "metadata": {},
   "outputs": [
    {
     "data": {
      "text/plain": [
       "<AxesSubplot:>"
      ]
     },
     "execution_count": 73,
     "metadata": {},
     "output_type": "execute_result"
    },
    {
     "data": {
      "image/png": "[encoded data removed]",
      "text/plain": [
       "<Figure size 432x288 with 1 Axes>"
      ]
     },
     "metadata": {
      "needs_background": "light"
     },
     "output_type": "display_data"
    }
   ],
   "source": [
    "pd.DataFrame(history.history).plot()"
   ]
  },
  {
   "cell_type": "code",
   "execution_count": 74,
   "id": "deb758b5",
   "metadata": {},
   "outputs": [],
   "source": [
    "models=[[\"model\",mae_1,mse_1],[\"model1\",mae_2,mse_2],[\"model2\",mae_3,mse_3],\n",
    "       [\"model3\",mae_4,mse_4],[\"model4\",mae_5,mse_5],\n",
    "       [\"model5\",mae_6,mse_6],[\"model6\",mae_7,mse_7],]\n"
   ]
  },
  {
   "cell_type": "code",
   "execution_count": 75,
   "id": "e51e7dbc",
   "metadata": {},
   "outputs": [],
   "source": [
    "models=pd.DataFrame(models,columns=[\"Models\",\"MAE\",\"MSE\"])"
   ]
  },
  {
   "cell_type": "code",
   "execution_count": 76,
   "id": "33f98e27",
   "metadata": {},
   "outputs": [
    {
     "data": {
      "text/html": [
       "<div>\n",
       "<style scoped>\n",
       "    .dataframe tbody tr th:only-of-type {\n",
       "        vertical-align: middle;\n",
       "    }\n",
       "\n",
       "    .dataframe tbody tr th {\n",
       "        vertical-align: top;\n",
       "    }\n",
       "\n",
       "    .dataframe thead th {\n",
       "        text-align: right;\n",
       "    }\n",
       "</style>\n",
       "<table border=\"1\" class=\"dataframe\">\n",
       "  <thead>\n",
       "    <tr style=\"text-align: right;\">\n",
       "      <th></th>\n",
       "      <th>Models</th>\n",
       "      <th>MAE</th>\n",
       "      <th>MSE</th>\n",
       "    </tr>\n",
       "  </thead>\n",
       "  <tbody>\n",
       "    <tr>\n",
       "      <th>0</th>\n",
       "      <td>model</td>\n",
       "      <td>7000.728516</td>\n",
       "      <td>163108672.0</td>\n",
       "    </tr>\n",
       "    <tr>\n",
       "      <th>1</th>\n",
       "      <td>model1</td>\n",
       "      <td>8032.438477</td>\n",
       "      <td>107633592.0</td>\n",
       "    </tr>\n",
       "    <tr>\n",
       "      <th>2</th>\n",
       "      <td>model2</td>\n",
       "      <td>2193.921387</td>\n",
       "      <td>26242582.0</td>\n",
       "    </tr>\n",
       "    <tr>\n",
       "      <th>3</th>\n",
       "      <td>model3</td>\n",
       "      <td>1884.921143</td>\n",
       "      <td>22581392.0</td>\n",
       "    </tr>\n",
       "    <tr>\n",
       "      <th>4</th>\n",
       "      <td>model4</td>\n",
       "      <td>1774.595093</td>\n",
       "      <td>21317378.0</td>\n",
       "    </tr>\n",
       "    <tr>\n",
       "      <th>5</th>\n",
       "      <td>model5</td>\n",
       "      <td>1764.598511</td>\n",
       "      <td>21098902.0</td>\n",
       "    </tr>\n",
       "    <tr>\n",
       "      <th>6</th>\n",
       "      <td>model6</td>\n",
       "      <td>1464.460449</td>\n",
       "      <td>19725740.0</td>\n",
       "    </tr>\n",
       "  </tbody>\n",
       "</table>\n",
       "</div>"
      ],
      "text/plain": [
       "   Models          MAE          MSE\n",
       "0   model  7000.728516  163108672.0\n",
       "1  model1  8032.438477  107633592.0\n",
       "2  model2  2193.921387   26242582.0\n",
       "3  model3  1884.921143   22581392.0\n",
       "4  model4  1774.595093   21317378.0\n",
       "5  model5  1764.598511   21098902.0\n",
       "6  model6  1464.460449   19725740.0"
      ]
     },
     "execution_count": 76,
     "metadata": {},
     "output_type": "execute_result"
    }
   ],
   "source": [
    "models"
   ]
  },
  {
   "cell_type": "code",
   "execution_count": 77,
   "id": "16e919c4",
   "metadata": {},
   "outputs": [],
   "source": [
    "from tensorflow.keras.utils import plot_model"
   ]
  },
  {
   "cell_type": "code",
   "execution_count": 78,
   "id": "a283db22",
   "metadata": {},
   "outputs": [
    {
     "data": {
      "image/png": "[encoded data removed]",
      "text/plain": [
       "<IPython.core.display.Image object>"
      ]
     },
     "execution_count": 78,
     "metadata": {},
     "output_type": "execute_result"
    }
   ],
   "source": [
    "plot_model(model6,show_shapes=True)"
   ]
  },
  {
   "cell_type": "code",
   "execution_count": 79,
   "id": "8d5b1647",
   "metadata": {},
   "outputs": [],
   "source": [
    "from sklearn.metrics import confusion_matrix\n"
   ]
  },
  {
   "cell_type": "code",
   "execution_count": 80,
   "id": "ca46cd80",
   "metadata": {},
   "outputs": [
    {
     "data": {
      "text/plain": [
       "(268,)"
      ]
     },
     "execution_count": 80,
     "metadata": {},
     "output_type": "execute_result"
    }
   ],
   "source": [
    "y_test.shape"
   ]
  },
  {
   "cell_type": "code",
   "execution_count": 81,
   "id": "3964ba02",
   "metadata": {},
   "outputs": [
    {
     "data": {
      "text/plain": [
       "array([0.58695652, 0.24791499, 0.4       , 1.        , 0.        ,\n",
       "       1.        , 0.        , 1.        , 0.        , 0.        ,\n",
       "       0.        ])"
      ]
     },
     "execution_count": 81,
     "metadata": {},
     "output_type": "execute_result"
    }
   ],
   "source": [
    "X_test_norm[0]"
   ]
  },
  {
   "cell_type": "code",
   "execution_count": 82,
   "id": "61b334a8",
   "metadata": {},
   "outputs": [],
   "source": [
    "y_pred=model6.predict(X_test_norm)"
   ]
  },
  {
   "cell_type": "code",
   "execution_count": 83,
   "id": "e4bf0c4d",
   "metadata": {},
   "outputs": [],
   "source": [
    "import matplotlib.pyplot as plt"
   ]
  },
  {
   "cell_type": "code",
   "execution_count": 84,
   "id": "58f90875",
   "metadata": {},
   "outputs": [
    {
     "data": {
      "text/plain": [
       "<AxesSubplot:ylabel='Frequency'>"
      ]
     },
     "execution_count": 84,
     "metadata": {},
     "output_type": "execute_result"
    },
    {
     "data": {
      "image/png": "[encoded data removed]",
      "text/plain": [
       "<Figure size 432x288 with 1 Axes>"
      ]
     },
     "metadata": {
      "needs_background": "light"
     },
     "output_type": "display_data"
    }
   ],
   "source": [
    "X[\"age\"].plot(kind=\"hist\")"
   ]
  },
  {
   "cell_type": "code",
   "execution_count": 85,
   "id": "1513a3a9",
   "metadata": {},
   "outputs": [
    {
     "data": {
      "text/plain": [
       "<AxesSubplot:ylabel='Frequency'>"
      ]
     },
     "execution_count": 85,
     "metadata": {},
     "output_type": "execute_result"
    },
    {
     "data": {
      "image/png": "[encoded data removed]",
      "text/plain": [
       "<Figure size 432x288 with 1 Axes>"
      ]
     },
     "metadata": {
      "needs_background": "light"
     },
     "output_type": "display_data"
    }
   ],
   "source": [
    "X[\"bmi\"].plot(kind=\"hist\")"
   ]
  },
  {
   "cell_type": "code",
   "execution_count": 86,
   "id": "e4b4dd17",
   "metadata": {},
   "outputs": [
    {
     "data": {
      "text/plain": [
       "764      9095.06825\n",
       "887      5272.17580\n",
       "890     29330.98315\n",
       "1293     9301.89355\n",
       "259     33750.29180\n",
       "           ...     \n",
       "109     47055.53210\n",
       "575     12222.89830\n",
       "535      6067.12675\n",
       "543     63770.42801\n",
       "846      9872.70100\n",
       "Name: charges, Length: 268, dtype: float64"
      ]
     },
     "execution_count": 86,
     "metadata": {},
     "output_type": "execute_result"
    }
   ],
   "source": [
    "y_test"
   ]
  },
  {
   "cell_type": "code",
   "execution_count": 87,
   "id": "629689bd",
   "metadata": {},
   "outputs": [],
   "source": [
    "y_test=tf.one_hot(y_test,depth=268)"
   ]
  },
  {
   "cell_type": "code",
   "execution_count": 88,
   "id": "48fec9e7",
   "metadata": {},
   "outputs": [
    {
     "data": {
      "text/plain": [
       "<tf.Tensor: shape=(268, 268), dtype=float32, numpy=\n",
       "array([[0., 0., 0., ..., 0., 0., 0.],\n",
       "       [0., 0., 0., ..., 0., 0., 0.],\n",
       "       [0., 0., 0., ..., 0., 0., 0.],\n",
       "       ...,\n",
       "       [0., 0., 0., ..., 0., 0., 0.],\n",
       "       [0., 0., 0., ..., 0., 0., 0.],\n",
       "       [0., 0., 0., ..., 0., 0., 0.]], dtype=float32)>"
      ]
     },
     "execution_count": 88,
     "metadata": {},
     "output_type": "execute_result"
    }
   ],
   "source": [
    "y_test"
   ]
  },
  {
   "cell_type": "code",
   "execution_count": 89,
   "id": "59519e02",
   "metadata": {},
   "outputs": [
    {
     "data": {
      "text/plain": [
       "array([[ 8906.8125],\n",
       "       [ 5244.462 ],\n",
       "       [27625.629 ],\n",
       "       [ 9086.793 ],\n",
       "       [32547.434 ],\n",
       "       [ 4498.6006],\n",
       "       [ 2108.353 ],\n",
       "       [13728.852 ],\n",
       "       [ 3576.9368],\n",
       "       [ 9977.133 ],\n",
       "       [17371.596 ],\n",
       "       [ 7130.7373],\n",
       "       [ 3896.703 ],\n",
       "       [44781.273 ],\n",
       "       [47446.094 ],\n",
       "       [43142.996 ],\n",
       "       [ 9662.797 ],\n",
       "       [41443.918 ],\n",
       "       [ 8135.1406],\n",
       "       [21043.309 ],\n",
       "       [ 4974.471 ],\n",
       "       [ 7253.8076],\n",
       "       [ 1195.2069],\n",
       "       [ 2707.3677],\n",
       "       [10841.572 ],\n",
       "       [10747.821 ],\n",
       "       [12184.234 ],\n",
       "       [ 5175.3315],\n",
       "       [ 9523.768 ],\n",
       "       [ 1132.228 ],\n",
       "       [ 8121.0835],\n",
       "       [11575.691 ],\n",
       "       [ 2092.5798],\n",
       "       [ 5691.6367],\n",
       "       [ 2800.0535],\n",
       "       [ 7248.6978],\n",
       "       [ 2562.198 ],\n",
       "       [ 7205.8613],\n",
       "       [22894.143 ],\n",
       "       [37920.73  ],\n",
       "       [ 4574.929 ],\n",
       "       [ 2640.8674],\n",
       "       [11305.735 ],\n",
       "       [11769.1045],\n",
       "       [ 4869.6562],\n",
       "       [11840.945 ],\n",
       "       [ 3580.7798],\n",
       "       [ 4295.0435],\n",
       "       [41037.19  ],\n",
       "       [ 4407.1455],\n",
       "       [13512.736 ],\n",
       "       [ 1706.8729],\n",
       "       [ 6856.699 ],\n",
       "       [ 1578.5585],\n",
       "       [10343.275 ],\n",
       "       [ 9961.958 ],\n",
       "       [ 3446.5945],\n",
       "       [37636.45  ],\n",
       "       [11431.817 ],\n",
       "       [10414.255 ],\n",
       "       [13331.457 ],\n",
       "       [ 4739.3794],\n",
       "       [13790.206 ],\n",
       "       [ 7933.743 ],\n",
       "       [10074.355 ],\n",
       "       [ 4115.511 ],\n",
       "       [16869.035 ],\n",
       "       [10687.74  ],\n",
       "       [ 3565.2402],\n",
       "       [ 1660.0924],\n",
       "       [ 5945.854 ],\n",
       "       [ 9218.176 ],\n",
       "       [ 8184.196 ],\n",
       "       [ 6278.7773],\n",
       "       [ 7070.944 ],\n",
       "       [ 4887.7866],\n",
       "       [ 4761.9624],\n",
       "       [11193.831 ],\n",
       "       [ 4338.5894],\n",
       "       [ 8913.957 ],\n",
       "       [ 1434.7516],\n",
       "       [27547.662 ],\n",
       "       [ 5020.7783],\n",
       "       [39010.164 ],\n",
       "       [45148.43  ],\n",
       "       [40871.617 ],\n",
       "       [ 4790.473 ],\n",
       "       [10386.41  ],\n",
       "       [ 8233.8125],\n",
       "       [10948.043 ],\n",
       "       [14938.362 ],\n",
       "       [25604.697 ],\n",
       "       [22915.145 ],\n",
       "       [ 4865.6797],\n",
       "       [37690.977 ],\n",
       "       [ 6695.986 ],\n",
       "       [19758.64  ],\n",
       "       [ 1940.7448],\n",
       "       [17806.445 ],\n",
       "       [ 6228.7515],\n",
       "       [ 4490.8096],\n",
       "       [ 1698.6278],\n",
       "       [ 5661.144 ],\n",
       "       [11964.855 ],\n",
       "       [12750.44  ],\n",
       "       [ 1721.5349],\n",
       "       [ 7626.5723],\n",
       "       [20654.812 ],\n",
       "       [ 1566.841 ],\n",
       "       [22347.895 ],\n",
       "       [ 1202.0084],\n",
       "       [ 2926.086 ],\n",
       "       [12767.062 ],\n",
       "       [37745.8   ],\n",
       "       [ 9634.495 ],\n",
       "       [ 1925.6278],\n",
       "       [12384.35  ],\n",
       "       [21406.678 ],\n",
       "       [ 6279.506 ],\n",
       "       [ 2777.8118],\n",
       "       [ 5461.175 ],\n",
       "       [ 7144.6255],\n",
       "       [11222.281 ],\n",
       "       [ 2029.9064],\n",
       "       [ 4722.688 ],\n",
       "       [ 7686.666 ],\n",
       "       [ 7329.9136],\n",
       "       [ 9068.947 ],\n",
       "       [12007.0205],\n",
       "       [ 1897.9325],\n",
       "       [ 3934.0076],\n",
       "       [ 5913.112 ],\n",
       "       [ 5827.835 ],\n",
       "       [ 7794.2793],\n",
       "       [ 5546.6147],\n",
       "       [11901.312 ],\n",
       "       [ 4175.5786],\n",
       "       [34201.54  ],\n",
       "       [45304.87  ],\n",
       "       [34154.08  ],\n",
       "       [ 5230.008 ],\n",
       "       [ 9749.65  ],\n",
       "       [ 2322.7292],\n",
       "       [10979.853 ],\n",
       "       [ 2151.473 ],\n",
       "       [22503.863 ],\n",
       "       [ 5187.711 ],\n",
       "       [ 3630.9211],\n",
       "       [11199.968 ],\n",
       "       [ 4678.7744],\n",
       "       [45898.77  ],\n",
       "       [ 2710.2524],\n",
       "       [ 1159.6455],\n",
       "       [37223.51  ],\n",
       "       [ 6343.2583],\n",
       "       [ 4410.2383],\n",
       "       [13186.127 ],\n",
       "       [ 8418.36  ],\n",
       "       [33968.285 ],\n",
       "       [38359.832 ],\n",
       "       [13351.476 ],\n",
       "       [ 2691.9116],\n",
       "       [14300.797 ],\n",
       "       [ 2309.9023],\n",
       "       [ 3516.5884],\n",
       "       [ 7095.2554],\n",
       "       [46749.84  ],\n",
       "       [43757.68  ],\n",
       "       [39081.61  ],\n",
       "       [ 2584.369 ],\n",
       "       [ 8964.918 ],\n",
       "       [ 6120.3916],\n",
       "       [ 5634.0063],\n",
       "       [ 4141.5044],\n",
       "       [ 2135.4775],\n",
       "       [21683.537 ],\n",
       "       [15817.325 ],\n",
       "       [13362.517 ],\n",
       "       [15639.108 ],\n",
       "       [11547.889 ],\n",
       "       [28352.623 ],\n",
       "       [ 3078.0422],\n",
       "       [ 8173.2114],\n",
       "       [ 4938.6157],\n",
       "       [ 5095.7686],\n",
       "       [ 2870.3354],\n",
       "       [ 3891.016 ],\n",
       "       [ 3387.1912],\n",
       "       [ 8479.719 ],\n",
       "       [10365.008 ],\n",
       "       [ 3527.6355],\n",
       "       [ 2092.8262],\n",
       "       [ 2665.605 ],\n",
       "       [37388.61  ],\n",
       "       [12576.991 ],\n",
       "       [ 9184.968 ],\n",
       "       [ 2688.809 ],\n",
       "       [11877.844 ],\n",
       "       [ 2085.6663],\n",
       "       [ 8745.665 ],\n",
       "       [ 3136.2246],\n",
       "       [24212.193 ],\n",
       "       [ 4218.382 ],\n",
       "       [ 2765.199 ],\n",
       "       [16993.426 ],\n",
       "       [16605.547 ],\n",
       "       [ 8646.051 ],\n",
       "       [ 4271.8555],\n",
       "       [ 7650.669 ],\n",
       "       [ 3135.8684],\n",
       "       [12335.672 ],\n",
       "       [11854.535 ],\n",
       "       [ 9369.19  ],\n",
       "       [17052.54  ],\n",
       "       [ 6492.021 ],\n",
       "       [ 3979.3564],\n",
       "       [ 4742.8706],\n",
       "       [13769.278 ],\n",
       "       [12347.395 ],\n",
       "       [ 5245.0854],\n",
       "       [ 2435.4077],\n",
       "       [ 6831.5483],\n",
       "       [ 6444.423 ],\n",
       "       [41436.63  ],\n",
       "       [ 2067.3088],\n",
       "       [34029.176 ],\n",
       "       [ 1677.7556],\n",
       "       [ 1622.0522],\n",
       "       [ 9196.754 ],\n",
       "       [10818.096 ],\n",
       "       [ 1590.9386],\n",
       "       [ 9465.758 ],\n",
       "       [ 4393.145 ],\n",
       "       [20878.455 ],\n",
       "       [ 9802.389 ],\n",
       "       [ 7964.613 ],\n",
       "       [ 3854.4045],\n",
       "       [ 5813.6016],\n",
       "       [42853.043 ],\n",
       "       [ 1730.3242],\n",
       "       [12881.473 ],\n",
       "       [36587.65  ],\n",
       "       [ 3020.1042],\n",
       "       [ 3390.1538],\n",
       "       [ 1608.4344],\n",
       "       [ 2652.5261],\n",
       "       [ 4219.2485],\n",
       "       [ 3971.5208],\n",
       "       [12483.017 ],\n",
       "       [ 1589.0835],\n",
       "       [ 1847.5029],\n",
       "       [ 7038.4365],\n",
       "       [ 3013.9   ],\n",
       "       [11769.796 ],\n",
       "       [ 2707.185 ],\n",
       "       [ 3249.0642],\n",
       "       [11637.288 ],\n",
       "       [ 3250.491 ],\n",
       "       [ 8483.843 ],\n",
       "       [ 6014.8354],\n",
       "       [ 7975.6978],\n",
       "       [13026.781 ],\n",
       "       [18519.34  ],\n",
       "       [45948.875 ],\n",
       "       [11924.484 ],\n",
       "       [ 5904.237 ],\n",
       "       [48204.2   ],\n",
       "       [ 9660.671 ]], dtype=float32)"
      ]
     },
     "execution_count": 89,
     "metadata": {},
     "output_type": "execute_result"
    }
   ],
   "source": [
    "y_pred"
   ]
  },
  {
   "cell_type": "code",
   "execution_count": null,
   "id": "d864fdde",
   "metadata": {},
   "outputs": [],
   "source": []
  }
 ],
 "metadata": {
  "kernelspec": {
   "display_name": "Python 3",
   "language": "python",
   "name": "python3"
  },
  "language_info": {
   "codemirror_mode": {
    "name": "ipython",
    "version": 3
   },
   "file_extension": ".py",
   "mimetype": "text/x-python",
   "name": "python",
   "nbconvert_exporter": "python",
   "pygments_lexer": "ipython3",
   "version": "3.9.4"
  }
 },
 "nbformat": 4,
 "nbformat_minor": 5
}
